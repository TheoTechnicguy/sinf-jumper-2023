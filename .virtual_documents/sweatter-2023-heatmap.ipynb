import matplotlib.pyplot as plt
import numpy as np

import matplotlib
import matplotlib as mpl

import datetime


days = ["mon", "tue", "wed", "thu", "fri", "sat", "sun"]
weeks = list()


class AsciiLetter:
    def __init__(self, letter: str, matrix: list[list[int]]):
        assert len(letter) == 1
        self.letter = letter

        assert len(matrix) == 7
        self.matrix = matrix

    def __repr__(self) -> str:
        return self.letter

    def __add__(self, other):
        return AsciiText(self, other)


class AsciiText:
    def __init__(self, *letters: list[AsciiLetter]):
        self.text = []
        self.matrix = [[] for _ in range(7)]

        for letter in letters:
            self.__add__(letter)

    def __repr__(self) -> str:
        return "".join(self.text)
    
    def __add__(self, other):
        self.text.extend(other.letter)
        for i in range(len(self.matrix)):
            if len(self.matrix[i]) > 0:
                self.matrix[i].append(0)
            self.matrix[i].extend(other.matrix[i])

        return self

    def __iter__(self):
        for c in self.matrix:
            yield c


S = AsciiLetter("S", [
    [0, 1, 1, 1],
    [1, 0, 0, 0],
    [1, 0, 0, 0],
    [0, 1, 1, 0],
    [0, 0, 0, 1],
    [0, 0, 0, 1],
    [1, 1, 1, 0],
])


I = AsciiLetter("I", [
    [1, 1, 1],
    [0, 1, 0],
    [0, 1, 0],
    [0, 1, 0],
    [0, 1, 0],
    [0, 1, 0],
    [1, 1, 1],
])


N = AsciiLetter("N", [
    [1, 0, 0, 1],
    [1, 1, 0, 1],
    [1, 0, 1, 1],
    [1, 0, 0, 1],
    [1, 0, 0, 1],
    [1, 0, 0, 1],
    [1, 0, 0, 1]
])


F = AsciiLetter("F", [
    [1, 1, 1, 1],
    [1, 0, 0, 0],
    [1, 0, 0, 0],
    [1, 1, 1, 0],
    [1, 0, 0, 0],
    [1, 0, 0, 0],
    [1, 0, 0, 0]
])


O = AsciiLetter("O", [
    [0, 0.75, 0.75, 0],
    [0.75, 0, 0, 0.75],
    [0.75, 0, 0, 0.75],
    [0.75, 0, 0, 0.75],
    [0.75, 0, 0, 0.75],
    [0.75, 0, 0, 0.75],
    [0, 0.75, 0.75, 0]
])


space = AsciiLetter(" ", [
    [],
    [],
    [],
    [],
    [],
    [],
    []
])


cdot = AsciiLetter("·", [
    [0, 0],
    [0, 0],
    [0, 0],
    [0, 0],
    [1, 1],
    [0, 0],
    [0, 0]
])


n2 = AsciiLetter("2", [
    [0, 1, 1, 0],
    [1, 0, 0, 1],
    [0, 0, 0, 1],
    [0, 0, 0, 1],
    [0, 0, 1, 0],
    [0, 1, 0, 0],
    [1, 1, 1, 1]
])


n0 = AsciiLetter("0", [
    [0, 1, 1, 0],
    [1, 0, 0, 1],
    [1, 1, 0, 1],
    [1, 0, 1, 1],
    [1, 0, 0, 1],
    [1, 0, 0, 1],
    [0, 1, 1, 0]
])


n1 = AsciiLetter("1", [
    [0, 1, 0],
    [1, 1, 0],
    [0, 1, 0],
    [0, 1, 0],
    [0, 1, 0],
    [0, 1, 0],
    [1, 1, 1]
])


n3 = AsciiLetter("3", [
    [0, 1, 1, 0],
    [1, 0, 0, 1],
    [0, 0, 0, 1],
    [0, 1, 1, 0],
    [0, 0, 0, 1],
    [1, 0, 0, 1],
    [0, 1, 1, 0]
])


n4 = AsciiLetter("4", [
    [0, 0, 0, 0],
    [1, 0, 1, 0],
    [1, 0, 1, 0],
    [1, 0, 1, 0],
    [1, 1, 1, 1],
    [0, 0, 1, 0],
    [0, 0, 1, 0]
])


text = S+I+N+F+O+space+n2+n0+n2+n3+cdot+n4


np.random.seed = 42

commits = np.array([
    [(
        np.random.uniform(0, 0.7) if commit == 0
        else np.random.uniform(0.85, 1) if commit == 1
        else np.random.uniform(0.70, 0.77)
    ) for commit in day]
    for day in text]
)


print("There are", len(commits), "days")
print("There are", len(commits[0]), "commits")


fig, ax = plt.subplots()
im = ax.imshow(commits)

ax.set_yticks([1, 3, 5], labels=days[1::2])


def generate_commits(seed: int, text):
    np.random.seed = seed

    return np.array([
        [(
            np.random.uniform(0, 0.65) if commit == 0
            else np.random.uniform(0.8, 1) if commit == 1
            else commit
        ) for commit in day]
        for day in text]
    )


def show_heatmap(commits):
    fig, ax = plt.subplots()
    im = ax.imshow(commits)
    
    ax.set_yticks([1, 3, 5], labels=days[1::2])


for i in range(10): show_heatmap(generate_commits(42 * i, text))



