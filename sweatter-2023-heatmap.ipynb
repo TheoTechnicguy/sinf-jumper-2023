{
 "cells": [
  {
   "cell_type": "code",
   "execution_count": 386,
   "id": "29976091-ee3f-4152-856e-e8a6fb458458",
   "metadata": {},
   "outputs": [],
   "source": [
    "import matplotlib.pyplot as plt\n",
    "import numpy as np\n",
    "\n",
    "import matplotlib\n",
    "import matplotlib as mpl\n",
    "\n",
    "import datetime"
   ]
  },
  {
   "cell_type": "code",
   "execution_count": 2,
   "id": "10445078-4c56-4948-8590-c8ff2167f7df",
   "metadata": {},
   "outputs": [],
   "source": [
    "days = [\"mon\", \"tue\", \"wed\", \"thu\", \"fri\", \"sat\", \"sun\"]\n",
    "weeks = list()"
   ]
  },
  {
   "cell_type": "code",
   "execution_count": 127,
   "id": "266ad9bc-8994-4202-a6be-302c30e839da",
   "metadata": {},
   "outputs": [],
   "source": [
    "class AsciiLetter:\n",
    "    def __init__(self, letter: str, matrix: list[list[int]]):\n",
    "        assert len(letter) == 1\n",
    "        self.letter = letter\n",
    "\n",
    "        assert len(matrix) == 7\n",
    "        self.matrix = matrix\n",
    "\n",
    "    def __repr__(self) -> str:\n",
    "        return self.letter\n",
    "\n",
    "    def __add__(self, other):\n",
    "        return AsciiText(self, other)"
   ]
  },
  {
   "cell_type": "code",
   "execution_count": 234,
   "id": "699887a5-2eaa-4a0e-a054-9e42b7651c04",
   "metadata": {},
   "outputs": [],
   "source": [
    "class AsciiText:\n",
    "    def __init__(self, *letters: list[AsciiLetter]):\n",
    "        self.text = []\n",
    "        self.matrix = [[] for _ in range(7)]\n",
    "\n",
    "        for letter in letters:\n",
    "            self.__add__(letter)\n",
    "\n",
    "    def __repr__(self) -> str:\n",
    "        return \"\".join(self.text)\n",
    "    \n",
    "    def __add__(self, other):\n",
    "        self.text.extend(other.letter)\n",
    "        for i in range(len(self.matrix)):\n",
    "            if len(self.matrix[i]) > 0:\n",
    "                self.matrix[i].append(0)\n",
    "            self.matrix[i].extend(other.matrix[i])\n",
    "\n",
    "        return self\n",
    "\n",
    "    def __iter__(self):\n",
    "        for c in self.matrix:\n",
    "            yield c"
   ]
  },
  {
   "cell_type": "code",
   "execution_count": 235,
   "id": "82ee7618-a6d7-4ac1-bc88-7dc335a337fb",
   "metadata": {},
   "outputs": [],
   "source": [
    "S = AsciiLetter(\"S\", [\n",
    "    [0, 1, 1, 1],\n",
    "    [1, 0, 0, 0],\n",
    "    [1, 0, 0, 0],\n",
    "    [0, 1, 1, 0],\n",
    "    [0, 0, 0, 1],\n",
    "    [0, 0, 0, 1],\n",
    "    [1, 1, 1, 0],\n",
    "])"
   ]
  },
  {
   "cell_type": "code",
   "execution_count": 236,
   "id": "0c3b7a0d-64ad-44ea-8f57-967ab144a1db",
   "metadata": {},
   "outputs": [],
   "source": [
    "I = AsciiLetter(\"I\", [\n",
    "    [1, 1, 1],\n",
    "    [0, 1, 0],\n",
    "    [0, 1, 0],\n",
    "    [0, 1, 0],\n",
    "    [0, 1, 0],\n",
    "    [0, 1, 0],\n",
    "    [1, 1, 1],\n",
    "])"
   ]
  },
  {
   "cell_type": "code",
   "execution_count": 237,
   "id": "23826321-f4ef-4492-8772-cec906416f89",
   "metadata": {},
   "outputs": [],
   "source": [
    "N = AsciiLetter(\"N\", [\n",
    "    [1, 0, 0, 1],\n",
    "    [1, 1, 0, 1],\n",
    "    [1, 0, 1, 1],\n",
    "    [1, 0, 0, 1],\n",
    "    [1, 0, 0, 1],\n",
    "    [1, 0, 0, 1],\n",
    "    [1, 0, 0, 1]\n",
    "])"
   ]
  },
  {
   "cell_type": "code",
   "execution_count": 264,
   "id": "f9cbe3d0-52a6-4426-8b71-9cef48be3ec7",
   "metadata": {},
   "outputs": [],
   "source": [
    "F = AsciiLetter(\"F\", [\n",
    "    [1, 1, 1, 1],\n",
    "    [1, 0, 0, 0],\n",
    "    [1, 0, 0, 0],\n",
    "    [1, 1, 1, 0],\n",
    "    [1, 0, 0, 0],\n",
    "    [1, 0, 0, 0],\n",
    "    [1, 0, 0, 0]\n",
    "])"
   ]
  },
  {
   "cell_type": "code",
   "execution_count": 346,
   "id": "0bf58dab-d869-4faa-84b5-5af81b2aa0e9",
   "metadata": {},
   "outputs": [],
   "source": [
    "O = AsciiLetter(\"O\", [\n",
    "    [0, 0.75, 0.75, 0],\n",
    "    [0.75, 0, 0, 0.75],\n",
    "    [0.75, 0, 0, 0.75],\n",
    "    [0.75, 0, 0, 0.75],\n",
    "    [0.75, 0, 0, 0.75],\n",
    "    [0.75, 0, 0, 0.75],\n",
    "    [0, 0.75, 0.75, 0]\n",
    "])"
   ]
  },
  {
   "cell_type": "code",
   "execution_count": 328,
   "id": "9de7d4ae-5d08-4941-bde1-f1defe651a1d",
   "metadata": {},
   "outputs": [],
   "source": [
    "space = AsciiLetter(\" \", [\n",
    "    [],\n",
    "    [],\n",
    "    [],\n",
    "    [],\n",
    "    [],\n",
    "    [],\n",
    "    []\n",
    "])"
   ]
  },
  {
   "cell_type": "code",
   "execution_count": 329,
   "id": "590454aa-634d-446f-9d4c-f73d78527ad5",
   "metadata": {},
   "outputs": [],
   "source": [
    "cdot = AsciiLetter(\"·\", [\n",
    "    [0, 0],\n",
    "    [0, 0],\n",
    "    [0, 0],\n",
    "    [0, 0],\n",
    "    [1, 1],\n",
    "    [0, 0],\n",
    "    [0, 0]\n",
    "])"
   ]
  },
  {
   "cell_type": "code",
   "execution_count": 330,
   "id": "af66ba33-277d-466c-a410-2bddf651cd5e",
   "metadata": {},
   "outputs": [],
   "source": [
    "n2 = AsciiLetter(\"2\", [\n",
    "    [0, 1, 1, 0],\n",
    "    [1, 0, 0, 1],\n",
    "    [0, 0, 0, 1],\n",
    "    [0, 0, 0, 1],\n",
    "    [0, 0, 1, 0],\n",
    "    [0, 1, 0, 0],\n",
    "    [1, 1, 1, 1]\n",
    "])"
   ]
  },
  {
   "cell_type": "code",
   "execution_count": 331,
   "id": "c9213681-a40c-4fbf-bc9f-61663c66c928",
   "metadata": {},
   "outputs": [],
   "source": [
    "n0 = AsciiLetter(\"0\", [\n",
    "    [0, 1, 1, 0],\n",
    "    [1, 0, 0, 1],\n",
    "    [1, 1, 0, 1],\n",
    "    [1, 0, 1, 1],\n",
    "    [1, 0, 0, 1],\n",
    "    [1, 0, 0, 1],\n",
    "    [0, 1, 1, 0]\n",
    "])"
   ]
  },
  {
   "cell_type": "code",
   "execution_count": 332,
   "id": "80758274-5ef1-476d-b1bd-15ac2146cbcf",
   "metadata": {},
   "outputs": [],
   "source": [
    "n1 = AsciiLetter(\"1\", [\n",
    "    [0, 1, 0],\n",
    "    [1, 1, 0],\n",
    "    [0, 1, 0],\n",
    "    [0, 1, 0],\n",
    "    [0, 1, 0],\n",
    "    [0, 1, 0],\n",
    "    [1, 1, 1]\n",
    "])"
   ]
  },
  {
   "cell_type": "code",
   "execution_count": 333,
   "id": "8b86db4d-83d2-454f-a216-36ce4a669f59",
   "metadata": {},
   "outputs": [],
   "source": [
    "n3 = AsciiLetter(\"3\", [\n",
    "    [0, 1, 1, 0],\n",
    "    [1, 0, 0, 1],\n",
    "    [0, 0, 0, 1],\n",
    "    [0, 1, 1, 0],\n",
    "    [0, 0, 0, 1],\n",
    "    [1, 0, 0, 1],\n",
    "    [0, 1, 1, 0]\n",
    "])"
   ]
  },
  {
   "cell_type": "code",
   "execution_count": 364,
   "id": "bf5337bd-43c2-4a74-b748-fa13d2a3f3c5",
   "metadata": {},
   "outputs": [],
   "source": [
    "n4 = AsciiLetter(\"4\", [\n",
    "    [0, 0, 0, 0],\n",
    "    [1, 0, 1, 0],\n",
    "    [1, 0, 1, 0],\n",
    "    [1, 0, 1, 0],\n",
    "    [1, 1, 1, 1],\n",
    "    [0, 0, 1, 0],\n",
    "    [0, 0, 1, 0]\n",
    "])"
   ]
  },
  {
   "cell_type": "code",
   "execution_count": 365,
   "id": "3d249113-9719-4c26-8e74-88e26cddd67d",
   "metadata": {},
   "outputs": [],
   "source": [
    "text = S+I+N+F+O+space+n2+n0+n2+n3+cdot+n4"
   ]
  },
  {
   "cell_type": "code",
   "execution_count": 424,
   "id": "70a977ed-7b62-4a43-a360-8da7373b2f60",
   "metadata": {},
   "outputs": [],
   "source": [
    "np.random.seed = 42\n",
    "\n",
    "commits = np.array([\n",
    "    [(\n",
    "        np.random.uniform(0, 0.7) if commit == 0\n",
    "        else np.random.uniform(0.85, 1) if commit == 1\n",
    "        else np.random.uniform(0.70, 0.77)\n",
    "    ) for commit in day]\n",
    "    for day in text]\n",
    ")"
   ]
  },
  {
   "cell_type": "code",
   "execution_count": 425,
   "id": "0dcb3a0a-9fd9-4e93-b0d0-9e522dcbf40f",
   "metadata": {},
   "outputs": [
    {
     "name": "stdout",
     "output_type": "stream",
     "text": [
      "There are 7 days\n",
      "There are 52 commits\n"
     ]
    }
   ],
   "source": [
    "print(\"There are\", len(commits), \"days\")\n",
    "print(\"There are\", len(commits[0]), \"commits\")"
   ]
  },
  {
   "cell_type": "code",
   "execution_count": 426,
   "id": "5ed0abac-2157-44f2-93fb-3aa2998da853",
   "metadata": {},
   "outputs": [
    {
     "data": {
      "text/plain": [
       "[<matplotlib.axis.YTick at 0x7fa234fdbb50>,\n",
       " <matplotlib.axis.YTick at 0x7fa234b3de50>,\n",
       " <matplotlib.axis.YTick at 0x7fa234fe5f10>]"
      ]
     },
     "execution_count": 426,
     "metadata": {},
     "output_type": "execute_result"
    },
    {
     "data": {
      "image/png": "[encoded data removed]",
      "text/plain": [
       "<Figure size 640x480 with 1 Axes>"
      ]
     },
     "metadata": {},
     "output_type": "display_data"
    }
   ],
   "source": [
    "fig, ax = plt.subplots()\n",
    "im = ax.imshow(commits)\n",
    "\n",
    "ax.set_yticks([1, 3, 5], labels=days[1::2])"
   ]
  },
  {
   "cell_type": "code",
   "execution_count": 375,
   "id": "ceffeb31-e454-44e1-9a19-218a56f7904b",
   "metadata": {},
   "outputs": [],
   "source": [
    "def generate_commits(seed: int, text):\n",
    "    np.random.seed = seed\n",
    "\n",
    "    return np.array([\n",
    "        [(\n",
    "            np.random.uniform(0, 0.65) if commit == 0\n",
    "            else np.random.uniform(0.8, 1) if commit == 1\n",
    "            else commit\n",
    "        ) for commit in day]\n",
    "        for day in text]\n",
    "    )"
   ]
  },
  {
   "cell_type": "code",
   "execution_count": 384,
   "id": "da7e44ae-be4a-4e74-b8ee-80cc1f948538",
   "metadata": {},
   "outputs": [],
   "source": [
    "def show_heatmap(commits):\n",
    "    fig, ax = plt.subplots()\n",
    "    im = ax.imshow(commits)\n",
    "    \n",
    "    ax.set_yticks([1, 3, 5], labels=days[1::2])"
   ]
  },
  {
   "cell_type": "code",
   "execution_count": 385,
   "id": "fdd45197-46b1-4f66-ba2b-cee42d30dc7e",
   "metadata": {},
   "outputs": [
    {
     "data": {
      "image/png": "[encoded data removed]",
      "text/plain": [
       "<Figure size 640x480 with 1 Axes>"
      ]
     },
     "metadata": {},
     "output_type": "display_data"
    },
    {
     "data": {
      "image/png": "[encoded data removed]",
      "text/plain": [
       "<Figure size 640x480 with 1 Axes>"
      ]
     },
     "metadata": {},
     "output_type": "display_data"
    },
    {
     "data": {
      "image/png": "[encoded data removed]",
      "text/plain": [
       "<Figure size 640x480 with 1 Axes>"
      ]
     },
     "metadata": {},
     "output_type": "display_data"
    },
    {
     "data": {
      "image/png": "[encoded data removed]",
      "text/plain": [
       "<Figure size 640x480 with 1 Axes>"
      ]
     },
     "metadata": {},
     "output_type": "display_data"
    },
    {
     "data": {
      "image/png": "[encoded data removed]",
      "text/plain": [
       "<Figure size 640x480 with 1 Axes>"
      ]
     },
     "metadata": {},
     "output_type": "display_data"
    },
    {
     "data": {
      "image/png": "[encoded data removed]",
      "text/plain": [
       "<Figure size 640x480 with 1 Axes>"
      ]
     },
     "metadata": {},
     "output_type": "display_data"
    },
    {
     "data": {
      "image/png": "[encoded data removed]",
      "text/plain": [
       "<Figure size 640x480 with 1 Axes>"
      ]
     },
     "metadata": {},
     "output_type": "display_data"
    },
    {
     "data": {
      "image/png": "[encoded data removed]",
      "text/plain": [
       "<Figure size 640x480 with 1 Axes>"
      ]
     },
     "metadata": {},
     "output_type": "display_data"
    },
    {
     "data": {
      "image/png": "[encoded data removed]",
      "text/plain": [
       "<Figure size 640x480 with 1 Axes>"
      ]
     },
     "metadata": {},
     "output_type": "display_data"
    },
    {
     "data": {
      "image/png": "[encoded data removed]",
      "text/plain": [
       "<Figure size 640x480 with 1 Axes>"
      ]
     },
     "metadata": {},
     "output_type": "display_data"
    }
   ],
   "source": [
    "for i in range(10): show_heatmap(generate_commits(42 * i, text))"
   ]
  },
  {
   "cell_type": "code",
   "execution_count": null,
   "id": "c868f1e9-77ed-45c2-a33f-1f10d5bf21ce",
   "metadata": {},
   "outputs": [],
   "source": []
  }
 ],
 "metadata": {
  "kernelspec": {
   "display_name": "Python 3 (ipykernel)",
   "language": "python",
   "name": "python3"
  },
  "language_info": {
   "codemirror_mode": {
    "name": "ipython",
    "version": 3
   },
   "file_extension": ".py",
   "mimetype": "text/x-python",
   "name": "python",
   "nbconvert_exporter": "python",
   "pygments_lexer": "ipython3",
   "version": "3.11.5"
  }
 },
 "nbformat": 4,
 "nbformat_minor": 5
}
